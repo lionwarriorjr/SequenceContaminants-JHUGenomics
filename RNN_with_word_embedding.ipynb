{
 "cells": [
  {
   "cell_type": "code",
   "execution_count": 1,
   "metadata": {
    "collapsed": false
   },
   "outputs": [
    {
     "name": "stdout",
     "output_type": "stream",
     "text": [
      "Populating the interactive namespace from numpy and matplotlib\n"
     ]
    },
    {
     "name": "stderr",
     "output_type": "stream",
     "text": [
      "/usr/local/Cellar/python3/3.6.1/Frameworks/Python.framework/Versions/3.6/lib/python3.6/site-packages/IPython/core/magics/pylab.py:160: UserWarning: pylab import has clobbered these variables: ['random']\n",
      "`%matplotlib` prevents importing * from pylab and numpy\n",
      "  \"\\n`%matplotlib` prevents importing * from pylab and numpy\"\n"
     ]
    }
   ],
   "source": [
    "import torch\n",
    "import torch.nn as nn\n",
    "import random\n",
    "import time\n",
    "import math\n",
    "import matplotlib.pyplot as plt\n",
    "import matplotlib.ticker as ticker\n",
    "import pandas as pd\n",
    "from dna2vec.dna2vec.multi_k_model import MultiKModel\n",
    "\n",
    "%pylab inline"
   ]
  },
  {
   "cell_type": "code",
   "execution_count": 69,
   "metadata": {
    "collapsed": true
   },
   "outputs": [],
   "source": [
    "import random\n",
    "def make_reads(file_name, read_length = 70, num_reads = 10000):\n",
    "    ''' Parse FASTA into a dictionary of reads '''\n",
    "    with open(file_name) as my_file:\n",
    "        input_lines = my_file.readlines()\n",
    "\n",
    "    sequence = ''\n",
    "    for line in input_lines:\n",
    "        if line.startswith('>'):\n",
    "            continue\n",
    "        if 'N' in line:\n",
    "            continue\n",
    "        sequence += line.rstrip()\n",
    "    #print(len(sequence))\n",
    "    \n",
    "    reads = []\n",
    "    index = random.sample(range(0, len(sequence)-read_length), num_reads)\n",
    "    for i in index:\n",
    "        reads.append(sequence[i:i+read_length])\n",
    "\n",
    "    return reads"
   ]
  },
  {
   "cell_type": "code",
   "execution_count": 70,
   "metadata": {
    "collapsed": false
   },
   "outputs": [],
   "source": [
    "category_lines = {}\n",
    "ec_file = 'e_coli.fna'\n",
    "sm_file = 's_maltophilia.fna'\n",
    "ax_file = 'a_xylosoxidans.fna'\n",
    "da_file = 'd_acidovorans.fna'\n",
    "pa_file = 'p_acnes.fna'\n",
    "se_file = 's_epidermidis.fna'\n",
    "ab_file = 'a_baumannii.fna'\n",
    "sc_file = 's_cerevisiae.fna'\n",
    "wa_file = 'w_anomalus.fna'\n",
    "mr_file = 'm_restricta.fna'\n",
    "pn_file = 'p_notatum.fna'\n",
    "category_lines['E. coli'] = make_reads(ec_file)\n",
    "category_lines['S. maltophilia'] = make_reads(sm_file)\n",
    "category_lines['A. xylosoxidans'] = make_reads(ax_file)\n",
    "category_lines['D. acidovorans'] = make_reads(da_file)\n",
    "category_lines['P. acnes'] = make_reads(pa_file)\n",
    "category_lines['S. epidermidis'] = make_reads(se_file)\n",
    "category_lines['A. baumannii'] = make_reads(ab_file)\n",
    "category_lines['S. cerevisiae'] = make_reads(sc_file)\n",
    "category_lines['W. anomalus'] = make_reads(wa_file)\n",
    "category_lines['M. restricta'] = make_reads(mr_file)\n",
    "category_lines['P. notatum'] = make_reads(pn_file)"
   ]
  },
  {
   "cell_type": "code",
   "execution_count": 4,
   "metadata": {
    "collapsed": false
   },
   "outputs": [],
   "source": [
    "# DNA embedding\n",
    "filepath = 'dna2vec/pretrained/dna2vec-20161219-0153-k3to8-100d-10c-29320Mbp-sliding-Xat.w2v'\n",
    "mk_model = MultiKModel(filepath)"
   ]
  },
  {
   "cell_type": "code",
   "execution_count": 29,
   "metadata": {
    "collapsed": false
   },
   "outputs": [
    {
     "data": {
      "text/plain": [
       "array([-0.012206  ,  0.39779699,  0.097603  , -0.058754  ,  0.072627  ,\n",
       "       -0.247025  , -0.110688  ,  0.101675  ,  0.101105  , -0.220668  ,\n",
       "       -0.127433  , -0.046099  , -0.31382701, -0.371115  , -0.36859399,\n",
       "       -0.072688  , -0.027233  ,  0.045963  , -0.093297  ,  0.190667  ,\n",
       "        0.158722  , -0.590361  , -0.082308  ,  0.056334  ,  0.107266  ,\n",
       "       -0.120519  , -0.136144  ,  0.28646001,  0.277596  , -0.060073  ,\n",
       "        0.23791701, -0.23421399,  0.15896299,  0.058911  ,  0.024735  ,\n",
       "        0.176507  ,  0.246501  ,  0.462387  , -0.064701  ,  0.37303001,\n",
       "        0.30354899, -0.182322  ,  0.21007399, -0.55129999,  0.169237  ,\n",
       "       -0.004276  , -0.151614  , -0.34891501, -0.123048  , -0.007773  ,\n",
       "       -0.334052  ,  0.130134  ,  0.158041  , -0.037027  , -0.127519  ,\n",
       "       -0.039673  ,  0.064268  , -0.021035  , -0.71886897, -0.20040099,\n",
       "       -0.19578899, -0.17915501,  0.119458  ,  0.096051  , -0.043424  ,\n",
       "       -0.090991  ,  0.149406  ,  0.32438901,  0.114336  , -0.082526  ,\n",
       "        0.069021  , -0.046348  , -0.12936801,  0.049491  , -0.206682  ,\n",
       "       -0.69628   , -0.46136001,  0.081114  ,  0.167266  , -0.137226  ,\n",
       "       -0.13245501,  0.020143  , -0.03033   ,  0.26269099, -0.16874599,\n",
       "       -0.216186  , -0.042045  , -0.023497  , -0.246775  ,  0.100024  ,\n",
       "        0.270248  ,  0.19202401,  0.35990101, -0.0533    ,  0.48867601,\n",
       "        0.147753  , -0.197007  ,  0.040765  ,  0.13509101, -0.28105801], dtype=float32)"
      ]
     },
     "execution_count": 29,
     "metadata": {},
     "output_type": "execute_result"
    }
   ],
   "source": [
    "mk_model.vector('ATG')"
   ]
  },
  {
   "cell_type": "code",
   "execution_count": 18,
   "metadata": {
    "collapsed": false
   },
   "outputs": [
    {
     "data": {
      "text/plain": [
       "100"
      ]
     },
     "execution_count": 18,
     "metadata": {},
     "output_type": "execute_result"
    }
   ],
   "source": [
    "len(mk_model.vector('ATG'))"
   ]
  },
  {
   "cell_type": "code",
   "execution_count": 13,
   "metadata": {
    "collapsed": false
   },
   "outputs": [
    {
     "data": {
      "text/plain": [
       "0.57358921"
      ]
     },
     "execution_count": 13,
     "metadata": {},
     "output_type": "execute_result"
    }
   ],
   "source": [
    "mk_model.cosine_distance('ATAGCAAA', 'ATAGAAAA')"
   ]
  },
  {
   "cell_type": "code",
   "execution_count": 68,
   "metadata": {
    "collapsed": false
   },
   "outputs": [
    {
     "name": "stdout",
     "output_type": "stream",
     "text": [
      "0.573589\n"
     ]
    }
   ],
   "source": [
    "print(mk_model.cosine_distance('ATAGCAAA', 'ATAGAAAA'))"
   ]
  },
  {
   "cell_type": "code",
   "execution_count": 15,
   "metadata": {
    "collapsed": true
   },
   "outputs": [],
   "source": [
    "all_categories = ['E. coli', \n",
    "                  'S. maltophilia',\n",
    "                  'A. xylosoxidans',\n",
    "                  'D. acidovorans',\n",
    "                  'P. acnes',\n",
    "                  'S. epidermidis',\n",
    "                  'A. baumannii',\n",
    "                  'S. cerevisiae',\n",
    "                  'W. anomalus',\n",
    "                  'M. restricta',\n",
    "                  'P. notatum']\n",
    "n_categories = 11"
   ]
  },
  {
   "cell_type": "code",
   "execution_count": 71,
   "metadata": {
    "collapsed": true
   },
   "outputs": [],
   "source": [
    "read_length = 70\n",
    "k = 3\n",
    "n_kmers = read_length - k + 1"
   ]
  },
  {
   "cell_type": "code",
   "execution_count": 57,
   "metadata": {
    "collapsed": false
   },
   "outputs": [],
   "source": [
    "# Just for demonstration, turn a k-mer into a <1 x 100> Tensor\n",
    "def kmerToTensor(kmer):\n",
    "    tensor = torch.zeros(1, 100)\n",
    "    tensor[0] = torch.FloatTensor(mk_model.vector(kmer.upper()))\n",
    "    return tensor\n",
    "\n",
    "# Turn a line into a <n_kmers x 1 x 100> Tensor\n",
    "def lineToTensor(line):\n",
    "    tensor = torch.zeros(len(line)-k+1, 1, 100)\n",
    "    for i in range(len(line)-k+1):\n",
    "        tensor[i][0] = torch.FloatTensor(mk_model.vector(line[i:i+k].upper()))\n",
    "    return tensor"
   ]
  },
  {
   "cell_type": "code",
   "execution_count": 38,
   "metadata": {
    "collapsed": false
   },
   "outputs": [
    {
     "data": {
      "text/plain": [
       "tensor([[-0.0263,  0.3346,  0.0421, -0.4852, -0.3486,  0.0596, -0.2218, -0.0821,\n",
       "          0.3632, -0.3129, -0.1257,  0.1770, -0.1640,  0.5042, -0.6186,  0.1687,\n",
       "          0.0502,  0.0442,  0.0259,  0.0926, -0.0682,  0.2653, -0.3156,  0.0054,\n",
       "         -0.0094, -0.4049, -0.1074,  0.0319,  0.3784, -0.1971,  0.0526, -0.2132,\n",
       "          0.1042,  0.1734,  0.5441,  0.1599,  0.1425,  0.2424,  0.1978, -0.0040,\n",
       "          0.2446, -0.1251,  0.3158, -0.3836, -0.3209,  0.2387, -0.0891, -0.0499,\n",
       "         -0.1285,  0.4144, -0.1324,  0.2065, -0.1754, -0.0790, -0.0511, -0.2148,\n",
       "         -0.0081, -0.3731,  0.0013, -0.1070,  0.2805,  0.2030, -0.2843,  0.0688,\n",
       "          0.2812,  0.2996,  0.3316,  0.1317, -0.1040, -0.6443, -0.1928, -0.2444,\n",
       "         -0.1562,  0.1373, -0.0198, -0.2723, -0.0805, -0.0024,  0.1601,  0.3706,\n",
       "         -0.3193, -0.0092,  0.0453,  0.1950, -0.1337,  0.0388,  0.2082, -0.2394,\n",
       "          0.1386, -0.2158, -0.0946,  0.2139, -0.1611, -0.1513,  0.3931,  0.0169,\n",
       "          0.2078, -0.0532, -0.2427, -0.1793]])"
      ]
     },
     "execution_count": 38,
     "metadata": {},
     "output_type": "execute_result"
    }
   ],
   "source": [
    "kmerToTensor('TGC')"
   ]
  },
  {
   "cell_type": "code",
   "execution_count": 39,
   "metadata": {
    "collapsed": false
   },
   "outputs": [
    {
     "data": {
      "text/plain": [
       "torch.Size([3, 1, 100])"
      ]
     },
     "execution_count": 39,
     "metadata": {},
     "output_type": "execute_result"
    }
   ],
   "source": [
    "lineToTensor('ATGCA').size()"
   ]
  },
  {
   "cell_type": "code",
   "execution_count": 40,
   "metadata": {
    "collapsed": true
   },
   "outputs": [],
   "source": [
    "import torch.nn as nn\n",
    "\n",
    "class RNN(nn.Module):\n",
    "    def __init__(self, input_size, hidden_size, output_size):\n",
    "        super(RNN, self).__init__()\n",
    "\n",
    "        self.hidden_size = hidden_size\n",
    "\n",
    "        self.i2h = nn.Linear(input_size + hidden_size, hidden_size)\n",
    "        self.i2o = nn.Linear(input_size + hidden_size, output_size)\n",
    "        self.softmax = nn.LogSoftmax(dim=1)\n",
    "\n",
    "    def forward(self, input, hidden):\n",
    "        combined = torch.cat((input, hidden), 1)\n",
    "        hidden = self.i2h(combined)\n",
    "        output = self.i2o(combined)\n",
    "        output = self.softmax(output)\n",
    "        return output, hidden\n",
    "\n",
    "    def initHidden(self):\n",
    "        return torch.zeros(1, self.hidden_size)"
   ]
  },
  {
   "cell_type": "code",
   "execution_count": 72,
   "metadata": {
    "collapsed": true
   },
   "outputs": [],
   "source": [
    "n_hidden = 125\n",
    "n_dimensions = 100\n",
    "rnn = RNN(n_dimensions, n_hidden, n_categories)"
   ]
  },
  {
   "cell_type": "code",
   "execution_count": 107,
   "metadata": {
    "collapsed": true
   },
   "outputs": [],
   "source": [
    "input = lineToTensor('ATG')\n",
    "hidden = torch.zeros(1, n_hidden)\n",
    "\n",
    "output, next_hidden = rnn(input[0], hidden)"
   ]
  },
  {
   "cell_type": "code",
   "execution_count": 108,
   "metadata": {
    "collapsed": false
   },
   "outputs": [
    {
     "data": {
      "text/plain": [
       "tensor([[-2.3618, -2.0688, -2.4957, -2.1780, -2.5339, -2.3869, -2.2128, -2.6079,\n",
       "         -2.4675, -2.7190, -2.5431]], grad_fn=<LogSoftmaxBackward>)"
      ]
     },
     "execution_count": 108,
     "metadata": {},
     "output_type": "execute_result"
    }
   ],
   "source": [
    "output"
   ]
  },
  {
   "cell_type": "code",
   "execution_count": 42,
   "metadata": {
    "collapsed": true
   },
   "outputs": [],
   "source": [
    "def categoryFromOutput(output):\n",
    "    top_n, top_i = output.topk(1)\n",
    "    category_i = top_i[0].item()\n",
    "    return all_categories[category_i], category_i"
   ]
  },
  {
   "cell_type": "code",
   "execution_count": 43,
   "metadata": {
    "collapsed": false
   },
   "outputs": [],
   "source": [
    "import random\n",
    "\n",
    "def randomChoice(l, start = 0, end = 0):\n",
    "    l = l[:start] + l[end:]\n",
    "    return l[random.randint(0, len(l)-1)]\n",
    "\n",
    "def randomTrainingExample(start, end):\n",
    "    category = randomChoice(all_categories)\n",
    "    line = randomChoice(category_lines[category], start, end)\n",
    "    category_tensor = torch.tensor([all_categories.index(category)], dtype=torch.long)\n",
    "    line_tensor = lineToTensor(line)\n",
    "    return category, line, category_tensor, line_tensor"
   ]
  },
  {
   "cell_type": "code",
   "execution_count": 48,
   "metadata": {
    "collapsed": false
   },
   "outputs": [
    {
     "name": "stdout",
     "output_type": "stream",
     "text": [
      "category = M. restricta / line = ATAGGCTTGA\n",
      "category = M. restricta / line = ATAGGCTTGA\n",
      "category = S. maltophilia / line = CGCTGGGCGC\n",
      "category = A. baumannii / line = TAACAAAGCC\n",
      "category = D. acidovorans / line = GACCAAAGCA\n",
      "category = S. maltophilia / line = CGCTGGGCGC\n",
      "category = S. epidermidis / line = TATACAAGCA\n",
      "category = A. xylosoxidans / line = CGCCTCGAGC\n",
      "category = M. restricta / line = ATAGGCTTGA\n",
      "category = D. acidovorans / line = GACCAAAGCA\n"
     ]
    }
   ],
   "source": [
    "for i in range(10):\n",
    "    category, line, category_tensor, line_tensor = randomTrainingExample(0, 9999)\n",
    "    print('category =', category, '/ line =', line)"
   ]
  },
  {
   "cell_type": "code",
   "execution_count": 51,
   "metadata": {
    "collapsed": true
   },
   "outputs": [],
   "source": [
    "criterion = nn.NLLLoss()"
   ]
  },
  {
   "cell_type": "code",
   "execution_count": 73,
   "metadata": {
    "collapsed": false
   },
   "outputs": [
    {
     "data": {
      "text/plain": [
       "RNN(\n",
       "  (i2h): Linear(in_features=225, out_features=125, bias=True)\n",
       "  (i2o): Linear(in_features=225, out_features=11, bias=True)\n",
       "  (softmax): LogSoftmax()\n",
       ")"
      ]
     },
     "execution_count": 73,
     "metadata": {},
     "output_type": "execute_result"
    }
   ],
   "source": [
    "rnn"
   ]
  },
  {
   "cell_type": "code",
   "execution_count": 52,
   "metadata": {
    "collapsed": true
   },
   "outputs": [],
   "source": [
    "# If you set this too high, it might explode \n",
    "# If too low, it might not learn\n",
    "learning_rate = 0.005 \n",
    "\n",
    "def train(category_tensor, line_tensor):\n",
    "    hidden = rnn.initHidden()\n",
    "\n",
    "    rnn.zero_grad()\n",
    "\n",
    "    for i in range(line_tensor.size()[0]):\n",
    "        output, hidden = rnn(line_tensor[i], hidden)\n",
    "\n",
    "    loss = criterion(output, category_tensor)\n",
    "    loss.backward()\n",
    "    \n",
    "    # \"clip_grad_norm\" helps prevent the exploding gradient problem in RNNs / LSTMs\n",
    "    torch.nn.utils.clip_grad_norm_(rnn.parameters(), 0.5)\n",
    "\n",
    "    # Add parameters' gradients to their values, multiplied by learning rate\n",
    "    for p in rnn.parameters():\n",
    "        p.data.add_(-learning_rate, p.grad.data)\n",
    "\n",
    "    return output, loss.item()"
   ]
  },
  {
   "cell_type": "code",
   "execution_count": 74,
   "metadata": {
    "collapsed": false
   },
   "outputs": [
    {
     "name": "stdout",
     "output_type": "stream",
     "text": [
      "5000 5% (2m 29s) 2.3968 GCGATCGGACTCTTCGGCGTCAATGTTGATACCAATATCGTACTGACGCGCCAGCAGGGTGAGTGATTTC / A. baumannii ✗ (E. coli)\n",
      "10000 10% (4m 43s) 2.3303 GGGCTATTCCCTGCGATGATCTTAGCACTGCTGGCCGTTGAAGTGATGCGCATCTGTTATAAGCATAACT / M. restricta ✗ (P. acnes)\n",
      "15000 15% (7m 21s) 4.3494 ACGACCCAGCAGGATGTGCTCACGAGTCTGCGGCATCGGGCCGTCAGTCGCAGCAACTACCAGGATCGCG / D. acidovorans ✗ (E. coli)\n",
      "20000 20% (10m 8s) 1.5616 ACATCCCTTGGACGGTTATCGGCATTATCATGACCGTCATCTGCGCCATCGCTGCCCTCCAGCTCGCGGG / P. acnes ✓\n",
      "25000 25% (13m 0s) 1.6181 CGAAGTTACATGCGCATTACCAAAGATATGTGGATGTCTATGAATCATCTTGGTGTTGAGACTTTCTATA / S. cerevisiae ✗ (S. epidermidis)\n",
      "30000 30% (15m 38s) 2.0513 CGAAAGCTGGCACTCGATCGGCTTCCGCGCGTTCGCTGCGCCACTGCCGCAACCTCTCGACGAGAACTGG / S. maltophilia ✗ (P. acnes)\n",
      "35000 35% (18m 16s) 1.7159 ACGTATGCATGAAAAATGGAGTGAAGGTCAATATATTGCATACTTTCAGGCGTTTACAAATACGCATGCA / A. baumannii ✗ (S. epidermidis)\n",
      "40000 40% (20m 57s) 7.1373 GTACTCACGCCGCTGCCTGGATGTTGCCATCTGGCGAACTGGTCGGCGGGCATGAAGACGTGGGTCGCCA / A. xylosoxidans ✗ (E. coli)\n",
      "45000 45% (23m 42s) 1.6150 CAACGGCTAAACAAGCAACTATGAATTGACCAAGGTATTGTCGGGCATCCCACAGGCACCGTTGAACAGA / P. notatum ✓\n",
      "50000 50% (26m 32s) 1.0471 GGAACACCGCGTCCGGTACCAGGCCGACGTGCGGCGCATGCAGGGCCGCGGTATGGATGACCGCGTCGAC / S. maltophilia ✓\n",
      "55000 55% (29m 11s) 1.7093 GCCCGTCATCCAGCGCACGCGCCAGTTATCTTCGACATTTTTACCGGTTAACTGGTCGCCACTAAGCGAT / M. restricta ✗ (E. coli)\n",
      "60000 60% (31m 49s) 1.3431 TGATATTGCGTCATTCGTTGGTGTGACCGACCAGCACTTCGGCAACTTGATAGTTGCGACGGAGCACTTT / P. notatum ✓\n",
      "65000 65% (34m 33s) 1.3082 TGTACGCCGAGCAGCTGGAAAAGGCAGGCGTGATCGCTGCCGGTGCCGGCAAGGCGATGGTCGATGCCTA / S. maltophilia ✓\n",
      "70000 70% (37m 14s) 1.3834 CGCTCCAAGTCACCTGGACGTGGTGGTTTTGGTAGGAAAATAGGGCCGTTTCTCGCTTCGATACTCCTCC / P. acnes ✗ (M. restricta)\n",
      "75000 75% (40m 18s) 1.7580 TTCTTCGATTTCCTTTTTAGAAAGATCTACTGGTTTTTCACCGTCTTTAGTGTCTTCTTTTAATGCTTTT / S. cerevisiae ✗ (S. epidermidis)\n",
      "80000 80% (43m 1s) 0.7843 TTCCTGCCGCTGCTGATGGTGCTGCCCTGGTTCGGCTGGTGGCTGTACCAGCGCCGCCGCGGACGCACGG / S. maltophilia ✓\n",
      "85000 85% (45m 45s) 1.5727 TCGGGAAAGAATTGGAACCAATTTACggaaatcaacaaaaccCAAAAGATGGTAATCCATTAGACTTATT / S. cerevisiae ✗ (W. anomalus)\n",
      "90000 90% (48m 27s) 1.3799 GACCCGGACCAGCATTATAAGCAGCCAAAGCTAATTCCCATGAACCGAACTGGTTATATAAGCTTCCTAA / A. baumannii ✓\n",
      "95000 95% (51m 5s) 1.0854 GTACAGATCGGGCGCGCTGCCATGCTCGCCGCCCAGCGCCAGCACCGGCAGCGTCAACGGCGTCTCGCGC / S. maltophilia ✗ (A. xylosoxidans)\n",
      "100000 100% (53m 44s) 1.0430 ACAAACGATATATAATCGTTTCAAATTGATCATCAAGATGATGAGCTGTTAACAATACATCTGCTCTTAA / W. anomalus ✗ (S. epidermidis)\n"
     ]
    }
   ],
   "source": [
    "import time\n",
    "import math\n",
    "\n",
    "n_iters = 100000\n",
    "print_every = 5000\n",
    "plot_every = 1000\n",
    "\n",
    "# Keep track of losses for plotting\n",
    "current_loss = 0\n",
    "all_losses = []\n",
    "\n",
    "def timeSince(since):\n",
    "    now = time.time()\n",
    "    s = now - since\n",
    "    m = math.floor(s / 60)\n",
    "    s -= m * 60\n",
    "    return '%dm %ds' % (m, s)\n",
    "\n",
    "start = time.time()\n",
    "\n",
    "for iter in range(1, n_iters + 1):\n",
    "    category, line, category_tensor, line_tensor = randomTrainingExample(8000, 9999)\n",
    "    output, loss = train(category_tensor, line_tensor)\n",
    "    current_loss += loss\n",
    "\n",
    "    # Print iter number, loss, name and guess\n",
    "    if iter % print_every == 0:\n",
    "        guess, guess_i = categoryFromOutput(output)\n",
    "        correct = '✓' if guess == category else '✗ (%s)' % category\n",
    "        print('%d %d%% (%s) %.4f %s / %s %s' % (iter, iter / n_iters * 100, timeSince(start), loss, line, guess, correct))\n",
    "\n",
    "    # Add current loss avg to list of losses\n",
    "    if iter % plot_every == 0:\n",
    "        all_losses.append(current_loss / plot_every)\n",
    "        current_loss = 0"
   ]
  },
  {
   "cell_type": "code",
   "execution_count": 75,
   "metadata": {
    "collapsed": false
   },
   "outputs": [
    {
     "data": {
      "image/png": "[encoded data removed]",
      "text/plain": [
       "<matplotlib.figure.Figure at 0x12b6bf6a0>"
      ]
     },
     "metadata": {},
     "output_type": "display_data"
    }
   ],
   "source": [
    "plt.figure()\n",
    "plt.plot(all_losses)\n",
    "plt.show()"
   ]
  },
  {
   "cell_type": "code",
   "execution_count": 76,
   "metadata": {
    "collapsed": true
   },
   "outputs": [],
   "source": [
    "# Keep track of correct guesses in a confusion matrix\n",
    "confusion = torch.zeros(n_categories, n_categories)\n",
    "n_confusion = 10000\n",
    "\n",
    "# Just return an output given a line\n",
    "def evaluate(line_tensor):\n",
    "    hidden = rnn.initHidden()\n",
    "\n",
    "    for i in range(line_tensor.size()[0]):\n",
    "        output, hidden = rnn(line_tensor[i], hidden)\n",
    "\n",
    "    return output\n",
    "\n",
    "# Go through a bunch of examples and record which are correctly guessed\n",
    "for i in range(n_confusion):\n",
    "    category, line, category_tensor, line_tensor = randomTrainingExample(0, 8000)\n",
    "    output = evaluate(line_tensor)\n",
    "    guess, guess_i = categoryFromOutput(output)\n",
    "    category_i = all_categories.index(category)\n",
    "    confusion[category_i][guess_i] += 1\n",
    "\n",
    "# Normalize by dividing every row by its sum\n",
    "for i in range(n_categories):\n",
    "    confusion[i] = confusion[i] / confusion[i].sum()"
   ]
  },
  {
   "cell_type": "code",
   "execution_count": 77,
   "metadata": {
    "collapsed": false,
    "scrolled": true
   },
   "outputs": [
    {
     "data": {
      "image/png": "[encoded data removed]",
      "text/plain": [
       "<matplotlib.figure.Figure at 0x129f8bb70>"
      ]
     },
     "metadata": {},
     "output_type": "display_data"
    }
   ],
   "source": [
    "# Set up plot\n",
    "fig = plt.figure()\n",
    "ax = fig.add_subplot(111)\n",
    "cax = ax.matshow(confusion.numpy())\n",
    "fig.colorbar(cax)\n",
    "\n",
    "# Set up axes\n",
    "ax.set_xticklabels([''] + all_categories, rotation=90)\n",
    "ax.set_yticklabels([''] + all_categories)\n",
    "\n",
    "# Force label at every tick\n",
    "ax.xaxis.set_major_locator(ticker.MultipleLocator(1))\n",
    "ax.yaxis.set_major_locator(ticker.MultipleLocator(1))\n",
    "\n",
    "# sphinx_gallery_thumbnail_number = 2\n",
    "plt.show()"
   ]
  },
  {
   "cell_type": "code",
   "execution_count": 78,
   "metadata": {
    "collapsed": true
   },
   "outputs": [],
   "source": [
    "def predict(input_line, n_predictions=3):\n",
    "    #print('\\n> %s' % input_line)\n",
    "    with torch.no_grad():\n",
    "        output = evaluate(lineToTensor(input_line))\n",
    "\n",
    "        # Get top N categories\n",
    "        topv, topi = output.topk(n_predictions, 1, True)\n",
    "        predictions = []\n",
    "\n",
    "        for i in range(n_predictions):\n",
    "            value = topv[0][i].item()\n",
    "            category_index = topi[0][i].item()\n",
    "            #print('(%.2f) %s' % (value, all_categories[category_index]))\n",
    "            predictions.append(all_categories[category_index])\n",
    "    \n",
    "    return predictions"
   ]
  },
  {
   "cell_type": "code",
   "execution_count": 79,
   "metadata": {
    "collapsed": false
   },
   "outputs": [
    {
     "data": {
      "text/plain": [
       "['P. notatum', 'E. coli', 'A. baumannii']"
      ]
     },
     "execution_count": 79,
     "metadata": {},
     "output_type": "execute_result"
    }
   ],
   "source": [
    "predictions = predict('ATATGATATC')\n",
    "predictions"
   ]
  },
  {
   "cell_type": "code",
   "execution_count": 218,
   "metadata": {
    "collapsed": false
   },
   "outputs": [
    {
     "name": "stdout",
     "output_type": "stream",
     "text": [
      "0.459090909091\n"
     ]
    }
   ],
   "source": [
    "# Validation\n",
    "accuracies = []\n",
    "for species, reads in category_lines.items():\n",
    "    correct = 0\n",
    "    for read in reads[8000:]:\n",
    "        predictions = predict(read)\n",
    "        if species in predictions:\n",
    "            correct += 1\n",
    "    accuracy = correct/2000\n",
    "    accuracies.append(accuracy)\n",
    "print(mean(accuracies))"
   ]
  },
  {
   "cell_type": "code",
   "execution_count": 255,
   "metadata": {
    "collapsed": false
   },
   "outputs": [
    {
     "name": "stdout",
     "output_type": "stream",
     "text": [
      "...finishing fold 1\n",
      "...finishing fold 2\n",
      "...finishing fold 3\n",
      "...finishing fold 4\n",
      "...finishing fold 5\n",
      "0.462272727273\n"
     ]
    }
   ],
   "source": [
    "# 5-fold cross validation\n",
    "n_iters = 100000\n",
    "n_hidden = 22\n",
    "learning_rate = 0.005\n",
    "\n",
    "accuracies = []\n",
    "for k in range(5):\n",
    "    rnn = RNN(n_letters, n_hidden, n_categories)\n",
    "    criterion = nn.NLLLoss()\n",
    "    \n",
    "    # Train\n",
    "    for iter in range(1, n_iters + 1):\n",
    "        category, line, category_tensor, line_tensor = randomTrainingExample(k*2000, (k+1)*2000-1)\n",
    "        train(category_tensor, line_tensor)\n",
    "    \n",
    "    # Validate\n",
    "    for species, reads in category_lines.items():\n",
    "        correct = 0\n",
    "        for read in reads[k*2000:(k+1)*2000-1]:\n",
    "            predictions = predict(read)\n",
    "            if species in predictions:\n",
    "                correct += 1\n",
    "        accuracy = correct/200\n",
    "        accuracies.append(accuracy)\n",
    "    print('...finishing fold ' + str(k+1))\n",
    "print(mean(accuracies))"
   ]
  },
  {
   "cell_type": "code",
   "execution_count": null,
   "metadata": {
    "collapsed": true
   },
   "outputs": [],
   "source": [
    "# Grid search\n",
    "for kmer_length in ([3, 5, 8]):\n",
    "    with open('k' + str(kmer_length) + '_summary.txt', 'w') as out_file:\n",
    "        out_file.write('\\t100\\t125\\t150\\t175\\t200\\n')\n",
    "        for read_length in ([10, 30, 50, 70, 90]):\n",
    "            out_file.write(str(read_length))\n",
    "            for n_hidden in ([100, 125, 150, 175, 200]):\n",
    "                #read_length = 10\n",
    "                category_lines['E. coli'] = make_reads(ec_file, read_length)\n",
    "                category_lines['S. maltophilia'] = make_reads(sm_file, read_length)\n",
    "                category_lines['A. xylosoxidans'] = make_reads(ax_file, read_length)\n",
    "                category_lines['D. acidovorans'] = make_reads(da_file, read_length)\n",
    "                category_lines['P. acnes'] = make_reads(pa_file, read_length)\n",
    "                category_lines['S. epidermidis'] = make_reads(se_file, read_length)\n",
    "                category_lines['A. baumannii'] = make_reads(ab_file, read_length)\n",
    "                category_lines['S. cerevisiae'] = make_reads(sc_file, read_length)\n",
    "                category_lines['W. anomalus'] = make_reads(wa_file, read_length)\n",
    "                category_lines['M. restricta'] = make_reads(mr_file, read_length)\n",
    "                category_lines['P. notatum'] = make_reads(pn_file, read_length)\n",
    "\n",
    "                n_iters = 100000\n",
    "                #n_hidden = 22\n",
    "                learning_rate = 0.005\n",
    "                criterion = nn.NLLLoss()\n",
    "\n",
    "                accuracies = []\n",
    "                for k in range(5):\n",
    "                    rnn = RNN(n_dimensions, n_hidden, n_categories)\n",
    "\n",
    "                    # Train\n",
    "                    for iter in range(1, n_iters + 1):\n",
    "                        category, line, category_tensor, line_tensor = randomTrainingExample(k*2000, (k+1)*2000-1)\n",
    "                        train(category_tensor, line_tensor)\n",
    "\n",
    "                    # Validate\n",
    "                    for species, reads in category_lines.items():\n",
    "                        correct = 0\n",
    "                        for read in reads[k*2000:(k+1)*2000-1]:\n",
    "                            predictions = predict(read)\n",
    "                            if species in predictions:\n",
    "                                correct += 1\n",
    "                        accuracy = correct/2000.0\n",
    "                        accuracies.append(accuracy)\n",
    "                    #print('...finishing fold ' + str(k+1))\n",
    "                print(str(count) + ': ' + str(np.mean(accuracies)))\n",
    "                count += 1\n",
    "                out_file.write('\\t' + str(np.mean(accuracies)))\n",
    "            out_file.write('\\n')\n"
   ]
  },
  {
   "cell_type": "code",
   "execution_count": null,
   "metadata": {
    "collapsed": true
   },
   "outputs": [],
   "source": []
  }
 ],
 "metadata": {
  "kernelspec": {
   "display_name": "Python 3",
   "language": "python",
   "name": "python3"
  },
  "language_info": {
   "codemirror_mode": {
    "name": "ipython",
    "version": 3
   },
   "file_extension": ".py",
   "mimetype": "text/x-python",
   "name": "python",
   "nbconvert_exporter": "python",
   "pygments_lexer": "ipython3",
   "version": "3.6.1"
  }
 },
 "nbformat": 4,
 "nbformat_minor": 2
}
