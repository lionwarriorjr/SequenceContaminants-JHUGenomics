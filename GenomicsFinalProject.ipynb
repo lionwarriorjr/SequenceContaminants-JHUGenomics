{
 "cells": [
  {
   "cell_type": "code",
   "execution_count": 161,
   "metadata": {
    "collapsed": true
   },
   "outputs": [],
   "source": [
    "import sys\n",
    "import numpy as np\n",
    "import random\n",
    "import subprocess"
   ]
  },
  {
   "cell_type": "markdown",
   "metadata": {},
   "source": [
    "### Simulated Contamination"
   ]
  },
  {
   "cell_type": "code",
   "execution_count": null,
   "metadata": {
    "collapsed": true
   },
   "outputs": [],
   "source": []
  },
  {
   "cell_type": "code",
   "execution_count": 162,
   "metadata": {
    "collapsed": true
   },
   "outputs": [],
   "source": [
    "READ_LENGTH = 150\n",
    "LINE_LENGTH = 60\n",
    "CONTAMINATION_RATE = 0.01"
   ]
  },
  {
   "cell_type": "code",
   "execution_count": 163,
   "metadata": {
    "collapsed": true
   },
   "outputs": [],
   "source": [
    "CONTAMINATED_HEADER_LINE = \">Contaminated Human Chr. 21 and Escherichia coli, complete genome\"\n",
    "UNCONTAMINATED_HEADER_LINE = \">Uncontaminated Human Chr. 21, complete genome\"\n",
    "FASTA_HEADER = \">reads.fna\""
   ]
  },
  {
   "cell_type": "code",
   "execution_count": 164,
   "metadata": {
    "collapsed": true
   },
   "outputs": [],
   "source": [
    "def parse_fasta(filename, read_length, limit=-1):\n",
    "    reads = []\n",
    "    read = \"\"\n",
    "    with open(filename, \"r\") as fa:\n",
    "        read = \"\"\n",
    "        for line in fa:\n",
    "            if len(reads) == limit:\n",
    "                return reads\n",
    "            if line.startswith(\">\"):\n",
    "                continue\n",
    "            end = min(read_length - len(read), len(line))\n",
    "            offset = 0\n",
    "            while offset+end < len(line):\n",
    "                read += line[offset:offset+end]\n",
    "                reads.append(read)\n",
    "                offset += end\n",
    "                end = read_length\n",
    "                read = \"\"\n",
    "            read += line[offset:-1]\n",
    "            if len(read) == READ_LENGTH:\n",
    "                reads.append(read)\n",
    "                read = \"\"\n",
    "        if read:\n",
    "            reads.append(read)\n",
    "    return reads"
   ]
  },
  {
   "cell_type": "code",
   "execution_count": 165,
   "metadata": {
    "collapsed": true
   },
   "outputs": [],
   "source": [
    "def write_fasta(filename, reads, header, limit=150):\n",
    "    index = 0\n",
    "    with open(filename, \"w\") as fw:\n",
    "        fw.write(header + \"\\n\")\n",
    "        start = 0\n",
    "        for read in reads:\n",
    "            offset = 0\n",
    "            while offset + limit - start < len(read):\n",
    "                fw.write(read[offset:offset+limit-start] + \"\\n\")\n",
    "                offset += limit-start\n",
    "                index += 1\n",
    "                fw.write(FASTA_HEADER + \" read %d:\\n\"%(index))\n",
    "                start = 0\n",
    "            if start > 0 and limit - start < len(read):\n",
    "                fw.write(read[:limit-start] + \"\\n\")\n",
    "                index += 1\n",
    "                fw.write(FASTA_HEADER + \" read %d:\\n\"%(index))\n",
    "                offset, start = limit-start, 0\n",
    "            fw.write(read[offset:])\n",
    "            start += len(read)-offset"
   ]
  },
  {
   "cell_type": "code",
   "execution_count": 166,
   "metadata": {
    "collapsed": true
   },
   "outputs": [],
   "source": [
    "human_genome = parse_fasta(\"chr21.fa\", READ_LENGTH)"
   ]
  },
  {
   "cell_type": "code",
   "execution_count": 167,
   "metadata": {
    "collapsed": true
   },
   "outputs": [],
   "source": [
    "write_fasta(\"human.fna\", human_genome, UNCONTAMINATED_HEADER_LINE, LINE_LENGTH)"
   ]
  },
  {
   "cell_type": "code",
   "execution_count": 168,
   "metadata": {
    "collapsed": false
   },
   "outputs": [
    {
     "name": "stdout",
     "output_type": "stream",
     "text": [
      "introducing 3114 contaminants\n"
     ]
    }
   ],
   "source": [
    "n_contaminants = int(CONTAMINATION_RATE * len(human_genome))\n",
    "print(\"introducing %d contaminants\"%(n_contaminants))\n",
    "ecoli_genome = parse_fasta(\"GCF_000005845.2_ASM584v2_genomic.fna\", READ_LENGTH, n_contaminants)"
   ]
  },
  {
   "cell_type": "code",
   "execution_count": 169,
   "metadata": {
    "collapsed": false
   },
   "outputs": [],
   "source": [
    "for read in ecoli_genome:\n",
    "    pos = random.randint(0,len(human_genome))\n",
    "    human_genome.insert(pos, read)"
   ]
  },
  {
   "cell_type": "code",
   "execution_count": 170,
   "metadata": {
    "collapsed": true
   },
   "outputs": [],
   "source": [
    "write_fasta(\"contaminated_human_ecoli.fna\", human_genome, CONTAMINATED_HEADER_LINE, LINE_LENGTH)"
   ]
  },
  {
   "cell_type": "code",
   "execution_count": null,
   "metadata": {
    "collapsed": false
   },
   "outputs": [],
   "source": [
    "bowtie = open(\"alignments.txt\", \"w\")\n",
    "subprocess.Popen(\"bowtie2 -x chrom21 -f contaminant21.fna -S cont.sam\", stdout=bowtie)\n",
    "subprocess.Popen(\"echo Hello World\", shell=True, stdout=subprocess.PIPE)"
   ]
  },
  {
   "cell_type": "markdown",
   "metadata": {},
   "source": [
    "### RNN for Classification of Target Genome"
   ]
  },
  {
   "cell_type": "code",
   "execution_count": null,
   "metadata": {
    "collapsed": true
   },
   "outputs": [],
   "source": []
  }
 ],
 "metadata": {
  "kernelspec": {
   "display_name": "Python 3",
   "language": "python",
   "name": "python3"
  },
  "language_info": {
   "codemirror_mode": {
    "name": "ipython",
    "version": 3
   },
   "file_extension": ".py",
   "mimetype": "text/x-python",
   "name": "python",
   "nbconvert_exporter": "python",
   "pygments_lexer": "ipython3",
   "version": "3.5.2"
  }
 },
 "nbformat": 4,
 "nbformat_minor": 2
}
