{
 "cells": [
  {
   "cell_type": "code",
   "execution_count": 68,
   "metadata": {
    "collapsed": true
   },
   "outputs": [],
   "source": [
    "import sys\n",
    "import numpy as np\n",
    "import random\n",
    "import subprocess"
   ]
  },
  {
   "cell_type": "markdown",
   "metadata": {},
   "source": [
    "### Simulated Contamination"
   ]
  },
  {
   "cell_type": "code",
   "execution_count": 69,
   "metadata": {
    "collapsed": true
   },
   "outputs": [],
   "source": [
    "READ_LENGTH = 150\n",
    "LINE_LENGTH = 80\n",
    "CONTAMINATION_RATE = 0.01"
   ]
  },
  {
   "cell_type": "code",
   "execution_count": 70,
   "metadata": {
    "collapsed": true
   },
   "outputs": [],
   "source": [
    "HEADER_LINE = \">Contaminated Human Chr. 21 and Escherichia coli, complete genome\""
   ]
  },
  {
   "cell_type": "code",
   "execution_count": 71,
   "metadata": {
    "collapsed": true
   },
   "outputs": [],
   "source": [
    "def parse_fasta(filename, read_length, limit=-1):\n",
    "    reads = []\n",
    "    read = \"\"\n",
    "    with open(filename, \"r\") as fa:\n",
    "        read = \"\"\n",
    "        for line in fa:\n",
    "            if len(reads) == limit:\n",
    "                return reads\n",
    "            if line.startswith(\">\"):\n",
    "                continue\n",
    "            end = min(read_length - len(read), len(line))\n",
    "            offset = 0\n",
    "            while offset+end < len(line):\n",
    "                read += line[offset:offset+end]\n",
    "                reads.append(read)\n",
    "                offset += end\n",
    "                end = read_length\n",
    "                read = \"\"\n",
    "            read += line[offset:-1]\n",
    "            if len(read) == READ_LENGTH:\n",
    "                reads.append(read)\n",
    "                read = \"\"\n",
    "        if read:\n",
    "            reads.append(read)\n",
    "    return reads"
   ]
  },
  {
   "cell_type": "code",
   "execution_count": 72,
   "metadata": {
    "collapsed": true
   },
   "outputs": [],
   "source": [
    "def write_fasta(filename, reads, limit=150):\n",
    "    with open(filename, \"w\") as fw:\n",
    "        fw.write(HEADER_LINE + \"\\n\")\n",
    "        start = 0\n",
    "        for read in reads:\n",
    "            offset = 0\n",
    "            while offset + limit - start < len(read):\n",
    "                fw.write(read[offset:offset+limit-start] + \"\\n\")\n",
    "                offset += limit-start\n",
    "                start = 0\n",
    "            if start > 0 and limit - start < len(read):\n",
    "                fw.write(read[:limit-start] + \"\\n\")\n",
    "                offset, start = limit-start, 0\n",
    "            fw.write(read[offset:])\n",
    "            start += len(read)-offset"
   ]
  },
  {
   "cell_type": "code",
   "execution_count": 73,
   "metadata": {
    "collapsed": true
   },
   "outputs": [],
   "source": [
    "human_genome = parse_fasta(\"chr21.fa\", READ_LENGTH)"
   ]
  },
  {
   "cell_type": "code",
   "execution_count": 74,
   "metadata": {
    "collapsed": false
   },
   "outputs": [
    {
     "name": "stdout",
     "output_type": "stream",
     "text": [
      "introducing 3114 contaminants\n"
     ]
    }
   ],
   "source": [
    "n_contaminants = int(CONTAMINATION_RATE * len(human_genome))\n",
    "print(\"introducing %d contaminants\"%(n_contaminants))\n",
    "ecoli_genome = parse_fasta(\"GCF_000005845.2_ASM584v2_genomic.fna\", READ_LENGTH, n_contaminants)"
   ]
  },
  {
   "cell_type": "code",
   "execution_count": 75,
   "metadata": {
    "collapsed": false
   },
   "outputs": [],
   "source": [
    "for read in ecoli_genome:\n",
    "    pos = random.randint(0,len(human_genome))\n",
    "    human_genome.insert(pos, read)"
   ]
  },
  {
   "cell_type": "code",
   "execution_count": 76,
   "metadata": {
    "collapsed": true
   },
   "outputs": [],
   "source": [
    "write_fasta(\"contaminated_human_ecoli.fna\", human_genome, 20)"
   ]
  },
  {
   "cell_type": "code",
   "execution_count": null,
   "metadata": {
    "collapsed": true
   },
   "outputs": [],
   "source": [
    "bowtie = open(\"bowtie_alignments.txt\", \"w\")\n",
    "subprocess.Popen(\"\", stdout=bowtie)"
   ]
  },
  {
   "cell_type": "markdown",
   "metadata": {},
   "source": [
    "### RNN for Classification of Target Genome"
   ]
  },
  {
   "cell_type": "code",
   "execution_count": null,
   "metadata": {
    "collapsed": true
   },
   "outputs": [],
   "source": []
  }
 ],
 "metadata": {
  "kernelspec": {
   "display_name": "Python 3",
   "language": "python",
   "name": "python3"
  },
  "language_info": {
   "codemirror_mode": {
    "name": "ipython",
    "version": 3
   },
   "file_extension": ".py",
   "mimetype": "text/x-python",
   "name": "python",
   "nbconvert_exporter": "python",
   "pygments_lexer": "ipython3",
   "version": "3.5.2"
  }
 },
 "nbformat": 4,
 "nbformat_minor": 2
}
